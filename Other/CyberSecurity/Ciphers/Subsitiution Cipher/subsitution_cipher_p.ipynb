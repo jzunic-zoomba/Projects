import tkinter as tk
from tkinter import messagebox

alphabet = 'ABCDEFGHIJKLMNOPQRSTUVWXYZ'
mapping = {}

def map_letter(letter):
    source = selected.get()
    if source:
        if letter in mapping.values():
            messagebox.showerror("Sorry pal, you already used that letter")
            return
        mapping[source] = letter
        update_mapping()
        selected.set('')

def update_mapping():
    for btn in buttons:
        letter = btn.letter  # Use the stored letter
        mapped = mapping.get(letter, '_')
        btn.config(text=f"{letter}\n-> {mapped}")

root = tk.Tk()
root.title("Subsitution Cipher Mapper")

# Set grid weights for even spacing
for i in range(26):  # For columns (enough for all letters)
    root.grid_columnconfigure(i, weight=1, uniform="col")
for i in range(12):  # For rows (adjust as needed for your layout)
    root.grid_rowconfigure(i, weight=1, uniform="row")

tk.Label(root, text="Enter the text you want encoded (letters only):", bg="lightblue").grid(row=0, column=0, columnspan=26, pady=5)
input_var = tk.StringVar()
input_entry = tk.Entry(root, textvariable=input_var, width=30)
input_entry.grid(row=1, column=0, columnspan=26, padx=5, pady=5)
selected = tk.StringVar()
buttons = []
selected_btn = [None]  # Track the selected button

def assign_letter(letter):
    selected.set(letter)
    if selected_btn[0]:
        selected_btn[0].config(bg='SystemButtonFace')
    for btn in buttons:
        if btn.letter == letter:
            btn.config(bg='yellow')
            selected_btn[0] = btn
            break

for i, letter in enumerate(alphabet):
    btn = tk.Button(root, text=f"{letter}\n->_", width=5, height=3, command=lambda l=letter: assign_letter(l))
    btn.letter = letter  # Store the original letter
    btn.grid(row=2, column=i, padx=6, pady=6, sticky="nsew")
    buttons.append(btn)

for i, letter in enumerate(alphabet):
    btn = tk.Button(root, text=letter, width=3, command=lambda l=letter: map_letter(l))
    btn.grid(row=3, column=i, padx=2, sticky="nsew")

frame_selected = tk.Frame(root)
frame_selected.grid(row=4, column=0, columnspan=26, sticky="ew", padx=5, pady=5)
tk.Label(frame_selected, text="Selected:").pack(side="left", padx=(0, 5))
tk.Label(frame_selected, textvariable=selected).pack(side="left")

tk.Label(root, text="Encode?").grid(row=4, column=0, columnspan=26)
tk.Button(root, text="Yes", command=lambda: messagebox.showinfo("Encoded Text", input_var.get())).grid(row=4, column=2, columnspan=26, pady=5)
tk.mainloop()
